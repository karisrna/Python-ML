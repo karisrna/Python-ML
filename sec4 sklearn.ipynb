{
 "cells": [
  {
   "cell_type": "code",
   "execution_count": null,
   "metadata": {},
   "outputs": [],
   "source": [
    "#机器学习四大类问题：分类、回归、聚类、降维\n",
    "#学习测试全过程：测试样本；选择、设计模型；训练模型；测试表现；评估、调整\n",
    "#sklearn三句话：1、model=***.***() 2、model.fit(X,y) 3、y_predict=model.predict(X)\n",
    "\n",
    "# 举例：Iris数据集\n",
    "# 数据集包含150行，有三种Iris，每一行数据包含了sepal萼片、petal花瓣的长宽度信息，标注了品种\n",
    "import numpy as np\n",
    "import matplotlib.pyplot as plt"
   ]
  },
  {
   "cell_type": "code",
   "execution_count": null,
   "metadata": {},
   "outputs": [],
   "source": [
    "import sklearn\n",
    "from sklearn import datasets"
   ]
  },
  {
   "cell_type": "code",
   "execution_count": null,
   "metadata": {},
   "outputs": [],
   "source": [
    "iris_data=datasets.load_iris()\n",
    "iris_data.keys()"
   ]
  },
  {
   "cell_type": "code",
   "execution_count": null,
   "metadata": {},
   "outputs": [],
   "source": [
    "iris_data.target"
   ]
  },
  {
   "cell_type": "code",
   "execution_count": null,
   "metadata": {},
   "outputs": [],
   "source": [
    "iris_data.feature_names"
   ]
  },
  {
   "cell_type": "code",
   "execution_count": null,
   "metadata": {},
   "outputs": [],
   "source": [
    "iris_data.target.shape"
   ]
  },
  {
   "cell_type": "code",
   "execution_count": null,
   "metadata": {},
   "outputs": [],
   "source": [
    "iris_data.target_names"
   ]
  },
  {
   "cell_type": "code",
   "execution_count": null,
   "metadata": {},
   "outputs": [],
   "source": [
    "from mpl_toolkits import mplot3d\n",
    "#ax=plt.axes(projection='3d')"
   ]
  },
  {
   "cell_type": "code",
   "execution_count": null,
   "metadata": {},
   "outputs": [],
   "source": [
    "fig=plt.figure()\n",
    "ax=fig.add_subplot(111,projection='3d')\n",
    "for iy in [0,1,2]:\n",
    "    x=X[y==iy]\n",
    "    ax.scatter(x[:0],x[:1],x[:2],label=iris_data.target_names[iy])\n",
    "ax.set_xlabel(iris_data.feature_names[0])\n",
    "ax.set_ylabel(iris_data.feature_names[1])\n",
    "ax.set_zlabel(iris_data.feature_names[2])\n",
    "ax.legend()"
   ]
  },
  {
   "cell_type": "code",
   "execution_count": null,
   "metadata": {},
   "outputs": [],
   "source": [
    "X[np.where(iris_data.target_names[y]=='setosa')]"
   ]
  },
  {
   "cell_type": "code",
   "execution_count": null,
   "metadata": {},
   "outputs": [],
   "source": [
    "features=[]\n",
    "for yy in y:\n",
    "    if yy==0:\n",
    "        features.append('setosa')\n",
    "    elif yy==1:\n",
    "        features.append('versicolor')\n",
    "    else:\n",
    "        features.append('virginica')\n",
    "features=np.array(features)\n",
    "X[np.where(features=='setosa')]"
   ]
  },
  {
   "cell_type": "code",
   "execution_count": null,
   "metadata": {},
   "outputs": [],
   "source": [
    "X[np.where(iris_data.target_names=='setosa')]"
   ]
  },
  {
   "cell_type": "code",
   "execution_count": null,
   "metadata": {},
   "outputs": [],
   "source": [
    "X,y=iris_data.data, iris_data.target\n",
    "X[np.where(y==2)]"
   ]
  },
  {
   "cell_type": "code",
   "execution_count": null,
   "metadata": {},
   "outputs": [],
   "source": [
    "X[np.where(y==1)]"
   ]
  },
  {
   "cell_type": "code",
   "execution_count": null,
   "metadata": {},
   "outputs": [],
   "source": [
    "X[np.where(y==0)]"
   ]
  },
  {
   "cell_type": "code",
   "execution_count": null,
   "metadata": {},
   "outputs": [],
   "source": [
    "for nowy in [0,1,2]:\n",
    "    now_target=iris_data.target_names[nowy]\n",
    "    #print(now_target)\n",
    "    #把当前种类的花都弄出来\n",
    "    nowx=X[y==nowy]\n",
    "    print('target=',now_target,'\\n\\tx.shape',nowx.shape)\n",
    "    print('\\t average of',iris_data.feature_names,'=',nowx.mean(axis=0))\n",
    "    print('\\t std of',iris_data.feature_names,'=',nowx.std(axis=0))"
   ]
  },
  {
   "cell_type": "code",
   "execution_count": null,
   "metadata": {},
   "outputs": [],
   "source": [
    "fig.axs=plt.subplots(4,4,figsize=(12,10))\n",
    "for feature1 in [0,1,2,3]:\n",
    "    for feature2 in [0,1,2,3]:\n",
    "        if feture1==feature2:continue\n",
    "        ax=axs[feature1,feature2]\n",
    "        for nowy in [0,1,2]:\n",
    "            nowx=X[y==nowy]\n",
    "            ax.scatter(nows[:,feature1],nowx[:,feature2],label=iris_data.target_names[nowy])\n",
    "            ax.set_xlabel(iris_data.feature_names[feature1])\n",
    "            ax.set_ylabel(iris_data.feature_names[feature2])\n",
    "            ax.legend(frameon=False)\n",
    "figure.tight_layout()"
   ]
  },
  {
   "cell_type": "code",
   "execution_count": null,
   "metadata": {},
   "outputs": [],
   "source": [
    "X[i1:i2:step,j1:j2:step]"
   ]
  },
  {
   "cell_type": "code",
   "execution_count": null,
   "metadata": {},
   "outputs": [],
   "source": [
    "X[:,2:4]"
   ]
  },
  {
   "cell_type": "code",
   "execution_count": null,
   "metadata": {},
   "outputs": [],
   "source": [
    "#knn分类 (K－Nearest Neighbours) k邻近算法\n",
    "#算法寻找距离它最近的k个点，例如，k=3的情况下发现三个最近邻居里良绿色的点最多(两个)，于是将它划分为绿色\n",
    "#类似于物以类聚人以群分\n",
    "#k值取小的话意味着数据噪音将会对结果产生较大的影响；k值取大的话，将会使计算成本很大"
   ]
  },
  {
   "cell_type": "code",
   "execution_count": null,
   "metadata": {},
   "outputs": [],
   "source": [
    "#距离计算\n",
    "#距离计算经常简单地使用“欧几里得距离”，也可用曼哈顿距离或者明可夫斯基距离"
   ]
  },
  {
   "cell_type": "code",
   "execution_count": null,
   "metadata": {},
   "outputs": [],
   "source": [
    "from sklearn import neighbors\n",
    "model=neighbors.KNeighborClassifier()"
   ]
  },
  {
   "cell_type": "code",
   "execution_count": null,
   "metadata": {},
   "outputs": [],
   "source": [
    "model.fit(X,y)\n",
    "y_predict=model.predict(X)\n",
    "y_predict==y"
   ]
  },
  {
   "cell_type": "code",
   "execution_count": null,
   "metadata": {},
   "outputs": [],
   "source": [
    "from sklearn import metrics\n",
    "metrics.accuracy_score(y,y_predict)\n",
    "#混淆矩阵的第i行和第j列表示该元素在y中划分为i，在y_predict中划分为j\n",
    "metrics.confusion_matrix(y,y_predict)"
   ]
  },
  {
   "cell_type": "code",
   "execution_count": null,
   "metadata": {},
   "outputs": [],
   "source": [
    "#样本个数不对称时，会造成不公平，可用按样本数加权的方法解决，寻找邻居是很复杂的过程，一般采用kd-tree\n",
    "#的算法，当样本数量很大时，仍然消耗大量时间"
   ]
  }
 ],
 "metadata": {
  "kernelspec": {
   "display_name": "Python 3",
   "language": "python",
   "name": "python3"
  },
  "language_info": {
   "codemirror_mode": {
    "name": "ipython",
    "version": 3
   },
   "file_extension": ".py",
   "mimetype": "text/x-python",
   "name": "python",
   "nbconvert_exporter": "python",
   "pygments_lexer": "ipython3",
   "version": "3.7.0"
  }
 },
 "nbformat": 4,
 "nbformat_minor": 5
}
