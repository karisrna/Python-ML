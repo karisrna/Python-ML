{
 "cells": [
  {
   "cell_type": "code",
   "execution_count": null,
   "metadata": {},
   "outputs": [],
   "source": [
    "#1、字典\n",
    "# 键值 key 索引"
   ]
  },
  {
   "cell_type": "code",
   "execution_count": null,
   "metadata": {},
   "outputs": [],
   "source": [
    "a={'dalao':'someone who is very niu','cainiao':'someone who is very cai'}\n",
    "a['dalao']"
   ]
  },
  {
   "cell_type": "code",
   "execution_count": null,
   "metadata": {},
   "outputs": [],
   "source": [
    "a.keys()"
   ]
  },
  {
   "cell_type": "code",
   "execution_count": null,
   "metadata": {},
   "outputs": [],
   "source": [
    "for key in a.keys():\n",
    "    print('a[',key,']=',a[key])"
   ]
  },
  {
   "cell_type": "code",
   "execution_count": null,
   "metadata": {},
   "outputs": [],
   "source": [
    "a['laoshou']='someone who is experienced...'\n",
    "a"
   ]
  },
  {
   "cell_type": "code",
   "execution_count": null,
   "metadata": {},
   "outputs": [],
   "source": [
    "a[0]='zero'\n",
    "a"
   ]
  },
  {
   "cell_type": "code",
   "execution_count": null,
   "metadata": {},
   "outputs": [],
   "source": [
    "import numpy as np\n",
    "a['an example of list']=np.array(range(10))\n",
    "a"
   ]
  },
  {
   "cell_type": "code",
   "execution_count": null,
   "metadata": {},
   "outputs": [],
   "source": [
    "#2、numpy (number+python) module standard\n",
    "# 数学函数(sin cos exp floor)、随机数、统计、array、线性代数、文件操作"
   ]
  },
  {
   "cell_type": "code",
   "execution_count": null,
   "metadata": {},
   "outputs": [],
   "source": [
    "np.sin(np.pi)"
   ]
  },
  {
   "cell_type": "code",
   "execution_count": null,
   "metadata": {},
   "outputs": [],
   "source": [
    "np.exp(1.3) #指数"
   ]
  },
  {
   "cell_type": "code",
   "execution_count": null,
   "metadata": {},
   "outputs": [],
   "source": [
    "np.log10(1000)"
   ]
  },
  {
   "cell_type": "code",
   "execution_count": null,
   "metadata": {},
   "outputs": [],
   "source": [
    "np.floor(3.6) #向下去整"
   ]
  },
  {
   "cell_type": "code",
   "execution_count": null,
   "metadata": {},
   "outputs": [],
   "source": [
    "np.ceil(3.4) #向上取整"
   ]
  },
  {
   "cell_type": "code",
   "execution_count": null,
   "metadata": {},
   "outputs": [],
   "source": [
    "#随机数\n",
    "data1=np.random.normal(0,1,100)\n",
    "data2=np.random.uniform(-1,1,100)\n",
    "data2.sort()\n",
    "print(data2)"
   ]
  },
  {
   "cell_type": "code",
   "execution_count": null,
   "metadata": {},
   "outputs": [],
   "source": [
    "for data in [data1,data2]:\n",
    "    print('mean=', np.mean(data))\n",
    "    print('variance=', np.var(data))\n",
    "    print('std var', np.std(data))"
   ]
  },
  {
   "cell_type": "code",
   "execution_count": null,
   "metadata": {},
   "outputs": [],
   "source": [
    "np.histogram(data1,bins=20,range=(-1,1))"
   ]
  },
  {
   "cell_type": "code",
   "execution_count": null,
   "metadata": {},
   "outputs": [],
   "source": [
    "# array 类似于C Fortune按内存顺序存储 元素类型必须一致\n",
    "# 相比于list 存储占用小，运算速度快，numpy提供的支持功能多"
   ]
  },
  {
   "cell_type": "code",
   "execution_count": null,
   "metadata": {},
   "outputs": [],
   "source": [
    "a=np.array([[2,3],[4,5]])"
   ]
  },
  {
   "cell_type": "code",
   "execution_count": null,
   "metadata": {},
   "outputs": [],
   "source": [
    "a"
   ]
  },
  {
   "cell_type": "code",
   "execution_count": null,
   "metadata": {},
   "outputs": [],
   "source": [
    "a.dtype"
   ]
  },
  {
   "cell_type": "code",
   "execution_count": null,
   "metadata": {},
   "outputs": [],
   "source": [
    "a.astype('float32')"
   ]
  },
  {
   "cell_type": "code",
   "execution_count": null,
   "metadata": {},
   "outputs": [],
   "source": [
    "a.size"
   ]
  },
  {
   "cell_type": "code",
   "execution_count": null,
   "metadata": {},
   "outputs": [],
   "source": [
    "a.shape"
   ]
  },
  {
   "cell_type": "code",
   "execution_count": null,
   "metadata": {},
   "outputs": [],
   "source": [
    "#用通项公式声明数列\n",
    "a=[[row,row**2,row**3] for row in range(1,11)]\n",
    "a"
   ]
  },
  {
   "cell_type": "code",
   "execution_count": null,
   "metadata": {},
   "outputs": [],
   "source": [
    "a=[[row*col for col in [1,2,3,4,5]] for row in range(1,11) if row%2==1]\n",
    "a"
   ]
  },
  {
   "cell_type": "code",
   "execution_count": null,
   "metadata": {},
   "outputs": [],
   "source": [
    "a=np.array(a)\n",
    "a.size"
   ]
  },
  {
   "cell_type": "code",
   "execution_count": null,
   "metadata": {},
   "outputs": [],
   "source": [
    "a.shape"
   ]
  },
  {
   "cell_type": "code",
   "execution_count": null,
   "metadata": {},
   "outputs": [],
   "source": [
    "a.sum()"
   ]
  },
  {
   "cell_type": "code",
   "execution_count": null,
   "metadata": {},
   "outputs": [],
   "source": [
    "a.sum(axis=1) #各行相加 axis=0为各列相加"
   ]
  },
  {
   "cell_type": "code",
   "execution_count": null,
   "metadata": {},
   "outputs": [],
   "source": [
    "a.reshape(-1)"
   ]
  },
  {
   "cell_type": "code",
   "execution_count": null,
   "metadata": {},
   "outputs": [],
   "source": [
    "a=np.arange(3,200,3)\n",
    "a"
   ]
  },
  {
   "cell_type": "code",
   "execution_count": null,
   "metadata": {},
   "outputs": [],
   "source": [
    "a=np.linspace(0,1,100)\n",
    "a"
   ]
  },
  {
   "cell_type": "code",
   "execution_count": null,
   "metadata": {},
   "outputs": [],
   "source": [
    "# broadcast广播操作 + - * /\n",
    "a=np.random.uniform(-1,1,10)\n",
    "b=np.random.uniform(1,2,10)\n",
    "a,b"
   ]
  },
  {
   "cell_type": "code",
   "execution_count": null,
   "metadata": {},
   "outputs": [],
   "source": [
    "a+b"
   ]
  },
  {
   "cell_type": "code",
   "execution_count": null,
   "metadata": {},
   "outputs": [],
   "source": [
    "np.random.uniform for row in range(1000000) #很慢\n",
    "np.random.uniform(0,1,1000000) #很快"
   ]
  },
  {
   "cell_type": "code",
   "execution_count": null,
   "metadata": {},
   "outputs": [],
   "source": [
    "a[::2] #间隔为2"
   ]
  },
  {
   "cell_type": "code",
   "execution_count": null,
   "metadata": {},
   "outputs": [],
   "source": [
    "a[3:10]"
   ]
  },
  {
   "cell_type": "code",
   "execution_count": null,
   "metadata": {},
   "outputs": [],
   "source": [
    "a>0 #取整数"
   ]
  },
  {
   "cell_type": "code",
   "execution_count": null,
   "metadata": {},
   "outputs": [],
   "source": [
    "a[np.where(a>0)]"
   ]
  },
  {
   "cell_type": "code",
   "execution_count": null,
   "metadata": {},
   "outputs": [],
   "source": [
    "np.where((a>0)&(a<0.5))"
   ]
  },
  {
   "cell_type": "code",
   "execution_count": null,
   "metadata": {},
   "outputs": [],
   "source": [
    "#vstack hstack拼接\n",
    "import numpy as np\n",
    "a=np.array(list(range(10)))\n",
    "b=a**2\n",
    "print(a,b)"
   ]
  },
  {
   "cell_type": "code",
   "execution_count": null,
   "metadata": {},
   "outputs": [],
   "source": [
    "np.hstack([a,b])"
   ]
  },
  {
   "cell_type": "code",
   "execution_count": null,
   "metadata": {},
   "outputs": [],
   "source": [
    "np.vstack([a,b])"
   ]
  },
  {
   "cell_type": "code",
   "execution_count": null,
   "metadata": {},
   "outputs": [],
   "source": [
    "# numpy 线性代数 algebra\n",
    "a=np.array([[1,2],[3,4]])\n",
    "a"
   ]
  },
  {
   "cell_type": "code",
   "execution_count": null,
   "metadata": {},
   "outputs": [],
   "source": [
    "np.linalg.det(a) #行列式"
   ]
  },
  {
   "cell_type": "code",
   "execution_count": null,
   "metadata": {},
   "outputs": [],
   "source": [
    "np.linalg.linalg.transpose(a) #或a.T 转置"
   ]
  },
  {
   "cell_type": "code",
   "execution_count": null,
   "metadata": {},
   "outputs": [],
   "source": [
    "b=np.linalg.inv(a) #逆矩阵\n",
    "np.linalg.linalg.dot(a,b) #点积"
   ]
  },
  {
   "cell_type": "code",
   "execution_count": null,
   "metadata": {},
   "outputs": [],
   "source": [
    "np.linalg.eig(a) #特征值"
   ]
  },
  {
   "cell_type": "code",
   "execution_count": null,
   "metadata": {},
   "outputs": [],
   "source": [
    "# 文件操作\n",
    "np.savetxt('1.txt',np.random.uniform(0,1,1000).reshape(100,10))"
   ]
  },
  {
   "cell_type": "code",
   "execution_count": null,
   "metadata": {},
   "outputs": [],
   "source": [
    "!dir"
   ]
  },
  {
   "cell_type": "code",
   "execution_count": null,
   "metadata": {},
   "outputs": [],
   "source": [
    "#python自带的文件操作\n",
    "f=open('2.txt','w')\n",
    "for row in range(10):\n",
    "    f.write(str(np.random.uniform(0,1))+'\\n')\n",
    "f.close()\n",
    "f=open('2.txt','r')\n",
    "[float(x) for x in f.readlines()]"
   ]
  },
  {
   "cell_type": "code",
   "execution_count": null,
   "metadata": {},
   "outputs": [],
   "source": [
    "#3、matplotlib\n",
    "import matplotlib.pyplot as plt\n",
    "# plot 函数 指定x，y数组，就是他们的坐标值，顺序连线画图"
   ]
  },
  {
   "cell_type": "code",
   "execution_count": null,
   "metadata": {},
   "outputs": [],
   "source": [
    "x=np.linspace(0,2*np.pi,100)\n",
    "y=np.sin(x)\n",
    "plt.plot(x,y,ls='--',c='r',marker='o',markersize=2)"
   ]
  },
  {
   "cell_type": "code",
   "execution_count": null,
   "metadata": {
    "scrolled": true
   },
   "outputs": [],
   "source": [
    "# figure\n",
    "fig,axs=plt.subplots(2,2,figsize=(8,6))\n",
    "\n",
    "### first panel\n",
    "ax=axs[0,0] #在第一个子图画图\n",
    "x=np.linspace(0,2*np.pi,100)\n",
    "ax.plot(x,np.cos(x),ls='-',c='r',label='cos(x)')\n",
    "ax.plot(x,np.sin(x),ls='--',c='k',label='sin(x)')\n",
    "ax.set_xlim(0,2*np.pi) #设置x坐标轴\n",
    "ax.grid() #设置方格\n",
    "ax.set_xlabel('x',fontsize=16) #横坐标\n",
    "ax.set_ylabel('sin(x)',fontsize=16) #纵坐标\n",
    "ax.legend(fontsize=14,loc='upper left') #图例\n",
    "ax.set_title('some plots',fontsize=16)\n",
    "\n",
    "### second panel\n",
    "ax=axs[0,1]\n",
    "x=np.linspace(0,1,10)\n",
    "y=x**2\n",
    "ax.scatter(x,y)\n",
    "ax.scatter(x,x**3,marker='*')\n",
    "ax.scatter(x,x**4,marker='+')\n",
    "\n",
    "### third panel\n",
    "ax=axs[1,0]\n",
    "x=np.random.normal(0,1,1000000)\n",
    "ax.hist(x,bins=(100),label='$(\\\\mu,\\\\sigma)=(0,1)$')\n",
    "x=np.random.normal(2,0.5,1000000)\n",
    "ax.hist(x,bins=(100),label='$(\\\\mu,\\\\sigma)=(2,0.5)$',histtype='step')\n",
    "ax.legend(fontsize=14,loc='upper left')\n",
    "\n",
    "### fourth panel\n",
    "ax=axs[1,1]\n",
    "x=np.linspace(-1,1,100)\n",
    "y=np.linspace(-1,1,100)\n",
    "Z=[[x[row1]**2+y[row2]**2 for row2 in range(len(y))] for row1 in range(len(x))]\n",
    "ax.contour(x,y,Z,levels=[0.25,0.9])\n",
    "\n",
    "fig.tight_layout() #布局合理化"
   ]
  },
  {
   "cell_type": "code",
   "execution_count": null,
   "metadata": {},
   "outputs": [],
   "source": [
    "#常用函数 plot scatter hist contour"
   ]
  }
 ],
 "metadata": {
  "kernelspec": {
   "display_name": "Python 3",
   "language": "python",
   "name": "python3"
  },
  "language_info": {
   "codemirror_mode": {
    "name": "ipython",
    "version": 3
   },
   "file_extension": ".py",
   "mimetype": "text/x-python",
   "name": "python",
   "nbconvert_exporter": "python",
   "pygments_lexer": "ipython3",
   "version": "3.7.0"
  }
 },
 "nbformat": 4,
 "nbformat_minor": 5
}
