{
 "cells": [
  {
   "cell_type": "code",
   "execution_count": null,
   "metadata": {},
   "outputs": [],
   "source": [
    "# 集成算法：集成一组预测器(分类或回归)\n",
    "# 三种集成算法：随机森林、自适应提升法、梯度提升\n",
    "# 投票分类器：训练好很多分类器，聚合所有预测器，将得票最多的结果作为预测类别\n",
    "# 随机森林 random forest：\n",
    "# 1、从原始的数据集构造子数据集，分配给不同决策树(可采用有放回抽样bootstrap与无放回抽样pasting)\n",
    "# 2、将子数据集放到每个子决策树中，每个子决策树输出一个结果\n",
    "# 3、投票得出结果\n",
    "# 自适应提升法 adaboost：用新预测器对之前预测器的的错误进行纠正\n",
    "# 梯度提升法 Gradient Boosting：\n",
    "# 1、类似于Adaboost，也是不断调整预测器，区别在于，调整是基于上一个预测器预测的残差"
   ]
  },
  {
   "cell_type": "code",
   "execution_count": null,
   "metadata": {},
   "outputs": [],
   "source": [
    "# sklearn实现的三种方法\n",
    "from sklearn import ensemble\n",
    "model=ensemble.RandomClassifier()\n",
    "model=ensemble.AdaboostClassifier()\n",
    "model=ensemble.GradientBoostingClassifier()"
   ]
  },
  {
   "cell_type": "code",
   "execution_count": null,
   "metadata": {},
   "outputs": [],
   "source": [
    "from sklearn import ensemble,neighbors,linear_model,svm,neural_network,model_selection,metrics,datasets,tree\n",
    "import numpy as np\n",
    "import matplotlib.pyplot as plt"
   ]
  },
  {
   "cell_type": "code",
   "execution_count": null,
   "metadata": {},
   "outputs": [],
   "source": [
    "X,y=datasets.make_blobs(n_samples=300,centers=5,random_state=9)\n",
    "plt.scatter(X[:,0],X[:,1],c=y)"
   ]
  },
  {
   "cell_type": "code",
   "execution_count": null,
   "metadata": {},
   "outputs": [],
   "source": [
    "pip install our_ml"
   ]
  },
  {
   "cell_type": "code",
   "execution_count": null,
   "metadata": {},
   "outputs": [],
   "source": [
    "import our_ml\n",
    "our_ml.plot_decision_surface(X,y,neighbors.KNeighborsClassifier(),'knn')"
   ]
  },
  {
   "cell_type": "code",
   "execution_count": null,
   "metadata": {},
   "outputs": [],
   "source": [
    "our_ml.plot_decision_surface(X,y,tree.DecisionTreeClassifier())"
   ]
  },
  {
   "cell_type": "code",
   "execution_count": null,
   "metadata": {},
   "outputs": [],
   "source": [
    "from sklearn import ensemble\n",
    "our_ml.plot_decision_surface(X,y,ensemble.RandomForestClassifier())"
   ]
  },
  {
   "cell_type": "code",
   "execution_count": null,
   "metadata": {},
   "outputs": [],
   "source": [
    "model=ensemble.RandomForestClassifier()\n",
    "model.fit(X,y)\n",
    "len(model.estimators_)"
   ]
  },
  {
   "cell_type": "code",
   "execution_count": null,
   "metadata": {},
   "outputs": [],
   "source": [
    "our_ml.plot_decision_surface(X,y,ensemble.AdaboostClassifier(n_estimators=10),'Adaboost')"
   ]
  },
  {
   "cell_type": "code",
   "execution_count": null,
   "metadata": {},
   "outputs": [],
   "source": [
    "model=ensemble.GradientBoostingClassifier()\n",
    "model.fit(X,y)"
   ]
  },
  {
   "cell_type": "code",
   "execution_count": null,
   "metadata": {},
   "outputs": [],
   "source": [
    "len(model.estimators_)"
   ]
  },
  {
   "cell_type": "code",
   "execution_count": null,
   "metadata": {},
   "outputs": [],
   "source": [
    "our_ml.plot.decision_surface(X,y,ensemble.GradientBoostingClassifier(random_state=3),'GBDT')"
   ]
  },
  {
   "cell_type": "code",
   "execution_count": null,
   "metadata": {},
   "outputs": [],
   "source": [
    "our_ml.plot_decision_surface(X,y,svm.SVC(),'svm')"
   ]
  }
 ],
 "metadata": {
  "kernelspec": {
   "display_name": "Python 3",
   "language": "python",
   "name": "python3"
  },
  "language_info": {
   "codemirror_mode": {
    "name": "ipython",
    "version": 3
   },
   "file_extension": ".py",
   "mimetype": "text/x-python",
   "name": "python",
   "nbconvert_exporter": "python",
   "pygments_lexer": "ipython3",
   "version": "3.7.0"
  }
 },
 "nbformat": 4,
 "nbformat_minor": 5
}
